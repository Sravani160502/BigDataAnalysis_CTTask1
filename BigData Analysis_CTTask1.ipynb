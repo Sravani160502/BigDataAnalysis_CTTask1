{
 "cells": [
  {
   "cell_type": "code",
   "execution_count": 1,
   "id": "b5124dcd",
   "metadata": {},
   "outputs": [],
   "source": [
    "# pip install pyspark"
   ]
  },
  {
   "cell_type": "code",
   "execution_count": 2,
   "id": "9c113e45",
   "metadata": {},
   "outputs": [],
   "source": [
    "from pyspark.sql import SparkSession\n",
    "\n",
    "spark = SparkSession.builder \\\n",
    "    .appName(\"Bank Marketing Analysis\") \\\n",
    "    .getOrCreate()\n"
   ]
  },
  {
   "cell_type": "code",
   "execution_count": 3,
   "id": "fa78e96b",
   "metadata": {},
   "outputs": [
    {
     "name": "stdout",
     "output_type": "stream",
     "text": [
      "root\n",
      " |-- age: integer (nullable = true)\n",
      " |-- job: string (nullable = true)\n",
      " |-- marital: string (nullable = true)\n",
      " |-- education: string (nullable = true)\n",
      " |-- default: string (nullable = true)\n",
      " |-- balance: integer (nullable = true)\n",
      " |-- housing: string (nullable = true)\n",
      " |-- loan: string (nullable = true)\n",
      " |-- contact: string (nullable = true)\n",
      " |-- day: integer (nullable = true)\n",
      " |-- month: string (nullable = true)\n",
      " |-- duration: integer (nullable = true)\n",
      " |-- campaign: integer (nullable = true)\n",
      " |-- pdays: integer (nullable = true)\n",
      " |-- previous: integer (nullable = true)\n",
      " |-- poutcome: string (nullable = true)\n",
      " |-- y: string (nullable = true)\n",
      "\n"
     ]
    }
   ],
   "source": [
    "df = spark.read.csv(\"bank-full.csv\", header=True, inferSchema=True)\n",
    "df.printSchema()\n"
   ]
  },
  {
   "cell_type": "code",
   "execution_count": 4,
   "id": "0adea549",
   "metadata": {},
   "outputs": [
    {
     "name": "stdout",
     "output_type": "stream",
     "text": [
      "+---+------------+-------+---------+-------+-------+-------+----+-------+---+-----+--------+--------+-----+--------+--------+---+\n",
      "|age|         job|marital|education|default|balance|housing|loan|contact|day|month|duration|campaign|pdays|previous|poutcome|  y|\n",
      "+---+------------+-------+---------+-------+-------+-------+----+-------+---+-----+--------+--------+-----+--------+--------+---+\n",
      "| 58|  management|married| tertiary|     no|   2143|    yes|  no|unknown|  5|  may|     261|       1|   -1|       0| unknown| no|\n",
      "| 44|  technician| single|secondary|     no|     29|    yes|  no|unknown|  5|  may|     151|       1|   -1|       0| unknown| no|\n",
      "| 33|entrepreneur|married|secondary|     no|      2|    yes| yes|unknown|  5|  may|      76|       1|   -1|       0| unknown| no|\n",
      "| 47| blue-collar|married|  unknown|     no|   1506|    yes|  no|unknown|  5|  may|      92|       1|   -1|       0| unknown| no|\n",
      "| 33|     unknown| single|  unknown|     no|      1|     no|  no|unknown|  5|  may|     198|       1|   -1|       0| unknown| no|\n",
      "+---+------------+-------+---------+-------+-------+-------+----+-------+---+-----+--------+--------+-----+--------+--------+---+\n",
      "only showing top 5 rows\n",
      "\n",
      "+-------+------------------+-------+--------+---------+-------+------------------+-------+-----+--------+-----------------+-----+-----------------+-----------------+------------------+------------------+--------+-----+\n",
      "|summary|               age|    job| marital|education|default|           balance|housing| loan| contact|              day|month|         duration|         campaign|             pdays|          previous|poutcome|    y|\n",
      "+-------+------------------+-------+--------+---------+-------+------------------+-------+-----+--------+-----------------+-----+-----------------+-----------------+------------------+------------------+--------+-----+\n",
      "|  count|             45211|  45211|   45211|    45211|  45211|             45211|  45211|45211|   45211|            45211|45211|            45211|            45211|             45211|             45211|   45211|45211|\n",
      "|   mean| 40.93621021432837|   NULL|    NULL|     NULL|   NULL|1362.2720576850766|   NULL| NULL|    NULL|15.80641879188693| NULL|258.1630797814691|2.763840658246887| 40.19782796222158|0.5803233726305546|    NULL| NULL|\n",
      "| stddev|10.618762040975405|   NULL|    NULL|     NULL|   NULL|3044.7658291685257|   NULL| NULL|    NULL|8.322476153044594| NULL|257.5278122651706|3.098020883279192|100.12874599059828| 2.303441044931218|    NULL| NULL|\n",
      "|    min|                18| admin.|divorced|  primary|     no|             -8019|     no|   no|cellular|                1|  apr|                0|                1|                -1|                 0| failure|   no|\n",
      "|    max|                95|unknown|  single|  unknown|    yes|            102127|    yes|  yes| unknown|               31|  sep|             4918|               63|               871|               275| unknown|  yes|\n",
      "+-------+------------------+-------+--------+---------+-------+------------------+-------+-----+--------+-----------------+-----+-----------------+-----------------+------------------+------------------+--------+-----+\n",
      "\n",
      "Total Rows: 45211\n"
     ]
    },
    {
     "data": {
      "text/plain": [
       "[('age', 'int'),\n",
       " ('job', 'string'),\n",
       " ('marital', 'string'),\n",
       " ('education', 'string'),\n",
       " ('default', 'string'),\n",
       " ('balance', 'int'),\n",
       " ('housing', 'string'),\n",
       " ('loan', 'string'),\n",
       " ('contact', 'string'),\n",
       " ('day', 'int'),\n",
       " ('month', 'string'),\n",
       " ('duration', 'int'),\n",
       " ('campaign', 'int'),\n",
       " ('pdays', 'int'),\n",
       " ('previous', 'int'),\n",
       " ('poutcome', 'string'),\n",
       " ('y', 'string')]"
      ]
     },
     "execution_count": 4,
     "metadata": {},
     "output_type": "execute_result"
    }
   ],
   "source": [
    "df.show(5)  # Preview\n",
    "df.describe().show()  # Summary stats\n",
    "\n",
    "# Count total rows\n",
    "print(\"Total Rows:\", df.count())\n",
    "\n",
    "# Column types\n",
    "df.dtypes\n"
   ]
  },
  {
   "cell_type": "code",
   "execution_count": 5,
   "id": "dad7b651",
   "metadata": {},
   "outputs": [
    {
     "name": "stdout",
     "output_type": "stream",
     "text": [
      "+---+---+-------+---------+-------+-------+-------+----+-------+---+-----+--------+--------+-----+--------+--------+---+\n",
      "|age|job|marital|education|default|balance|housing|loan|contact|day|month|duration|campaign|pdays|previous|poutcome|  y|\n",
      "+---+---+-------+---------+-------+-------+-------+----+-------+---+-----+--------+--------+-----+--------+--------+---+\n",
      "|  0|  0|      0|        0|      0|      0|      0|   0|      0|  0|    0|       0|       0|    0|       0|       0|  0|\n",
      "+---+---+-------+---------+-------+-------+-------+----+-------+---+-----+--------+--------+-----+--------+--------+---+\n",
      "\n"
     ]
    }
   ],
   "source": [
    "from pyspark.sql.functions import col, sum\n",
    "\n",
    "missing_counts = df.select([sum(col(c).isNull().cast(\"int\")).alias(c) for c in df.columns])\n",
    "missing_counts.show()\n"
   ]
  },
  {
   "cell_type": "code",
   "execution_count": 6,
   "id": "5f492cc9",
   "metadata": {},
   "outputs": [
    {
     "name": "stdout",
     "output_type": "stream",
     "text": [
      "+-------------+-----+\n",
      "|          job|count|\n",
      "+-------------+-----+\n",
      "|  blue-collar| 9732|\n",
      "|   management| 9458|\n",
      "|   technician| 7597|\n",
      "|       admin.| 5171|\n",
      "|     services| 4154|\n",
      "|      retired| 2264|\n",
      "|self-employed| 1579|\n",
      "| entrepreneur| 1487|\n",
      "|   unemployed| 1303|\n",
      "|    housemaid| 1240|\n",
      "|      student|  938|\n",
      "|      unknown|  288|\n",
      "+-------------+-----+\n",
      "\n",
      "+---------+------------------+\n",
      "|education|      avg(balance)|\n",
      "+---------+------------------+\n",
      "|  unknown|1526.7544426494346|\n",
      "| tertiary|1758.4164348545223|\n",
      "|secondary| 1154.880786139126|\n",
      "|  primary|1250.9499343161583|\n",
      "+---------+------------------+\n",
      "\n"
     ]
    }
   ],
   "source": [
    "# Example: Count by job type\n",
    "df.groupBy(\"job\").count().orderBy(\"count\", ascending=False).show()\n",
    "\n",
    "# Example: Average balance by education\n",
    "df.groupBy(\"education\").avg(\"balance\").show()\n"
   ]
  },
  {
   "cell_type": "code",
   "execution_count": 7,
   "id": "0ea317a8",
   "metadata": {},
   "outputs": [
    {
     "name": "stdout",
     "output_type": "stream",
     "text": [
      "TOP 5 JOBS\n"
     ]
    },
    {
     "name": "stdout",
     "output_type": "stream",
     "text": [
      "+-----------+-----+\n",
      "|        job|count|\n",
      "+-----------+-----+\n",
      "|blue-collar| 9732|\n",
      "| management| 9458|\n",
      "| technician| 7597|\n",
      "|     admin.| 5171|\n",
      "|   services| 4154|\n",
      "+-----------+-----+\n",
      "\n"
     ]
    }
   ],
   "source": [
    "print(\"TOP 5 JOBS\")\n",
    "df.groupBy(\"job\").count().orderBy(\"count\", ascending=False).limit(5).show()"
   ]
  },
  {
   "cell_type": "code",
   "execution_count": 8,
   "id": "f6a3447c",
   "metadata": {},
   "outputs": [
    {
     "name": "stdout",
     "output_type": "stream",
     "text": [
      "+--------+----------+\n",
      "| marital|percentage|\n",
      "+--------+----------+\n",
      "| married|     60.19|\n",
      "|  single|     28.29|\n",
      "|divorced|     11.52|\n",
      "+--------+----------+\n",
      "\n"
     ]
    }
   ],
   "source": [
    "from pyspark.sql.functions import round, count\n",
    "\n",
    "total_count = df.count()\n",
    "df.groupBy(\"marital\").agg(\n",
    "    round((count(\"*\") / total_count) * 100, 2).alias(\"percentage\")\n",
    ").orderBy(\"percentage\", ascending=False).show()\n"
   ]
  },
  {
   "cell_type": "code",
   "execution_count": 9,
   "id": "90ef9830",
   "metadata": {},
   "outputs": [
    {
     "name": "stdout",
     "output_type": "stream",
     "text": [
      "+-------------+--------+-----+\n",
      "|          job| marital|count|\n",
      "+-------------+--------+-----+\n",
      "|  blue-collar| married| 6968|\n",
      "|   management| married| 5400|\n",
      "|   technician| married| 4052|\n",
      "|   management|  single| 2947|\n",
      "|       admin.| married| 2693|\n",
      "|   technician|  single| 2620|\n",
      "|     services| married| 2407|\n",
      "|  blue-collar|  single| 2014|\n",
      "|      retired| married| 1731|\n",
      "|       admin.|  single| 1728|\n",
      "|     services|  single| 1198|\n",
      "|   management|divorced| 1111|\n",
      "| entrepreneur| married| 1070|\n",
      "|self-employed| married|  993|\n",
      "|   technician|divorced|  925|\n",
      "|    housemaid| married|  912|\n",
      "|      student|  single|  878|\n",
      "|  blue-collar|divorced|  750|\n",
      "|       admin.|divorced|  750|\n",
      "|   unemployed| married|  731|\n",
      "+-------------+--------+-----+\n",
      "only showing top 20 rows\n",
      "\n"
     ]
    }
   ],
   "source": [
    "df.groupBy(\"job\", \"marital\").count().orderBy(\"count\", ascending=False).show()"
   ]
  },
  {
   "cell_type": "code",
   "execution_count": 10,
   "id": "0f7c81de",
   "metadata": {},
   "outputs": [
    {
     "name": "stdout",
     "output_type": "stream",
     "text": [
      "+---------+-----+\n",
      "|age_group|count|\n",
      "+---------+-----+\n",
      "|    30-49|29744|\n",
      "|      50+|10194|\n",
      "|      <30| 5273|\n",
      "+---------+-----+\n",
      "\n"
     ]
    }
   ],
   "source": [
    "from pyspark.sql.functions import when\n",
    "\n",
    "df = df.withColumn(\"age_group\", when(df.age < 30, \"<30\")\n",
    "                                .when((df.age >= 30) & (df.age < 50), \"30-49\")\n",
    "                                .otherwise(\"50+\"))\n",
    "\n",
    "df.groupBy(\"age_group\").count().show()\n"
   ]
  },
  {
   "cell_type": "code",
   "execution_count": 11,
   "id": "e97aa583",
   "metadata": {},
   "outputs": [
    {
     "name": "stdout",
     "output_type": "stream",
     "text": [
      "+-------+-----+\n",
      "|housing|count|\n",
      "+-------+-----+\n",
      "|     no|20081|\n",
      "|    yes|25130|\n",
      "+-------+-----+\n",
      "\n"
     ]
    }
   ],
   "source": [
    "df.groupBy(\"housing\").count().orderBy(\"housing\").show()\n"
   ]
  },
  {
   "cell_type": "code",
   "execution_count": 12,
   "id": "8628bb6a",
   "metadata": {},
   "outputs": [
    {
     "name": "stdout",
     "output_type": "stream",
     "text": [
      "+----+------------------+\n",
      "|loan|      avg(balance)|\n",
      "+----+------------------+\n",
      "|  no|1474.4536307846288|\n",
      "| yes| 774.3099116510215|\n",
      "+----+------------------+\n",
      "\n"
     ]
    }
   ],
   "source": [
    "df.groupBy(\"loan\").avg(\"balance\").orderBy(\"avg(balance)\", ascending=False).show()\n"
   ]
  },
  {
   "cell_type": "code",
   "execution_count": 13,
   "id": "08169d1f",
   "metadata": {},
   "outputs": [
    {
     "name": "stdout",
     "output_type": "stream",
     "text": [
      "+--------+----------------------------+\n",
      "| marital|term_Deposit_subscription(%)|\n",
      "+--------+----------------------------+\n",
      "|  single|                       14.95|\n",
      "|divorced|                       11.95|\n",
      "| married|                       10.12|\n",
      "+--------+----------------------------+\n",
      "\n"
     ]
    }
   ],
   "source": [
    "from pyspark.sql.functions import avg\n",
    "\n",
    "df.withColumn(\"response\", (df[\"y\"] == \"yes\").cast(\"int\")) \\\n",
    "  .groupBy(\"marital\") \\\n",
    "  .agg(round(avg(\"response\") * 100, 2).alias(\"term_Deposit_subscription(%)\")) \\\n",
    "  .orderBy(\"term_Deposit_subscription(%)\", ascending=False).show()\n"
   ]
  },
  {
   "cell_type": "code",
   "execution_count": 14,
   "id": "15afc8ab",
   "metadata": {},
   "outputs": [
    {
     "name": "stdout",
     "output_type": "stream",
     "text": [
      "+--------+----------------------------+\n",
      "| marital|term_Deposit_subscription(%)|\n",
      "+--------+----------------------------+\n",
      "| married|                       89.88|\n",
      "|divorced|                       88.05|\n",
      "|  single|                       85.05|\n",
      "+--------+----------------------------+\n",
      "\n"
     ]
    }
   ],
   "source": [
    "from pyspark.sql.functions import avg\n",
    "\n",
    "df.withColumn(\"response\", (df[\"y\"] == \"no\").cast(\"int\")) \\\n",
    "  .groupBy(\"marital\") \\\n",
    "  .agg(round(avg(\"response\") * 100, 2).alias(\"term_Deposit_subscription(%)\")) \\\n",
    "  .orderBy(\"term_Deposit_subscription(%)\", ascending=False).show()"
   ]
  },
  {
   "cell_type": "code",
   "execution_count": 15,
   "id": "e7810ec7",
   "metadata": {},
   "outputs": [
    {
     "data": {
      "text/plain": [
       "1857"
      ]
     },
     "execution_count": 15,
     "metadata": {},
     "output_type": "execute_result"
    }
   ],
   "source": [
    "df.filter(df[\"education\"] == \"unknown\").count()\n"
   ]
  },
  {
   "cell_type": "code",
   "execution_count": 16,
   "id": "f83b6ea2",
   "metadata": {},
   "outputs": [
    {
     "name": "stdout",
     "output_type": "stream",
     "text": [
      "+---+--------+--------+\n",
      "|age|duration|campaign|\n",
      "+---+--------+--------+\n",
      "| 53|    1666|       1|\n",
      "| 46|    1778|       1|\n",
      "| 40|    2033|       1|\n",
      "| 39|    1623|       1|\n",
      "| 34|    1677|       1|\n",
      "| 38|    1906|       3|\n",
      "| 36|    1597|       2|\n",
      "| 44|    1529|       2|\n",
      "| 38|    1521|       1|\n",
      "| 36|    1581|       2|\n",
      "| 41|    2177|       4|\n",
      "| 30|    1574|       2|\n",
      "| 29|    1689|       4|\n",
      "| 43|    2087|       2|\n",
      "| 41|    2462|       1|\n",
      "| 40|    1692|       2|\n",
      "| 28|    2016|       2|\n",
      "| 27|    1713|       1|\n",
      "| 31|    1534|       2|\n",
      "| 34|    1727|       5|\n",
      "+---+--------+--------+\n",
      "only showing top 20 rows\n",
      "\n"
     ]
    }
   ],
   "source": [
    "df.filter((df[\"duration\"] > 1500) | (df[\"campaign\"] > 20)).select(\"age\", \"duration\", \"campaign\").show()\n"
   ]
  },
  {
   "cell_type": "code",
   "execution_count": 17,
   "id": "fa77a684",
   "metadata": {},
   "outputs": [
    {
     "data": {
      "image/png": "[encoded data removed]",
      "text/plain": [
       "<Figure size 700x500 with 1 Axes>"
      ]
     },
     "metadata": {},
     "output_type": "display_data"
    }
   ],
   "source": [
    "from pyspark.sql.functions import when, col\n",
    "\n",
    "\n",
    "import matplotlib.pyplot as plt\n",
    "import seaborn as sns\n",
    "\n",
    "df = df.withColumn(\"age_group\", when(col(\"age\") < 30, \"<30\")\n",
    "                                .when((col(\"age\") >= 30) & (col(\"age\") < 50), \"30-49\")\n",
    "                                .otherwise(\"50+\"))\n",
    "\n",
    "df = df.withColumn(\"response\", (col(\"y\") == \"yes\").cast(\"int\"))\n",
    "\n",
    "age_pdf = df.groupBy(\"age_group\").avg(\"response\").withColumnRenamed(\"avg(response)\", \"success_rate\").toPandas()\n",
    "\n",
    "plt.figure(figsize=(7, 5))\n",
    "sns.barplot(data=age_pdf, x=\"age_group\", y=\"success_rate\")\n",
    "plt.title(\"Campaign Success Rate by Age Group\")\n",
    "plt.ylabel(\"Success Rate\")\n",
    "plt.show()\n"
   ]
  },
  {
   "cell_type": "code",
   "execution_count": 18,
   "id": "9c047e88",
   "metadata": {},
   "outputs": [
    {
     "data": {
      "image/png": "[encoded data removed]",
      "text/plain": [
       "<Figure size 640x480 with 1 Axes>"
      ]
     },
     "metadata": {},
     "output_type": "display_data"
    }
   ],
   "source": [
    "# Convert small subset to Pandas\n",
    "pdf = df.select(\"job\", \"balance\").sample(fraction=0.1).toPandas()\n",
    "\n",
    "import matplotlib.pyplot as plt\n",
    "import seaborn as sns\n",
    "\n",
    "sns.boxplot(data=pdf, x=\"job\", y=\"balance\")\n",
    "plt.xticks(rotation=45)\n",
    "plt.show() \n"
   ]
  },
  {
   "cell_type": "code",
   "execution_count": 19,
   "id": "57f02388",
   "metadata": {},
   "outputs": [
    {
     "data": {
      "text/plain": [
       "0.8882797451474292"
      ]
     },
     "execution_count": 19,
     "metadata": {},
     "output_type": "execute_result"
    }
   ],
   "source": [
    "from pyspark.ml.feature import StringIndexer, VectorAssembler\n",
    "from pyspark.ml.classification import LogisticRegression\n",
    "\n",
    "# Convert categorical to numeric\n",
    "indexer = StringIndexer(inputCol=\"y\", outputCol=\"label\")\n",
    "df = indexer.fit(df).transform(df)\n",
    "\n",
    "features = ['age', 'balance', 'duration', 'campaign', 'pdays', 'previous']\n",
    "assembler = VectorAssembler(inputCols=features, outputCol=\"features\")\n",
    "data = assembler.transform(df)\n",
    "\n",
    "# Train-Test Split\n",
    "train, test = data.randomSplit([0.7, 0.3], seed=42)\n",
    "\n",
    "# Model\n",
    "lr = LogisticRegression()\n",
    "model = lr.fit(train)\n",
    "\n",
    "# Evaluate\n",
    "results = model.evaluate(test)\n",
    "results.accuracy"
   ]
  },
  {
   "cell_type": "code",
   "execution_count": null,
   "id": "6a2ffb66",
   "metadata": {},
   "outputs": [],
   "source": []
  }
 ],
 "metadata": {
  "kernelspec": {
   "display_name": "Python 3",
   "language": "python",
   "name": "python3"
  },
  "language_info": {
   "codemirror_mode": {
    "name": "ipython",
    "version": 3
   },
   "file_extension": ".py",
   "mimetype": "text/x-python",
   "name": "python",
   "nbconvert_exporter": "python",
   "pygments_lexer": "ipython3",
   "version": "3.11.9"
  }
 },
 "nbformat": 4,
 "nbformat_minor": 5
}
